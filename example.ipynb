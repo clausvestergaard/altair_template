{
 "cells": [
  {
   "cell_type": "code",
   "execution_count": null,
   "metadata": {},
   "outputs": [],
   "source": [
    "# for app\n",
    "from app import app\n",
    "\n",
    "# for exporting data\n",
    "import json\n",
    "import os\n",
    "import pathlib\n",
    "\n",
    "# for graphs and tables\n",
    "import altair as alt\n",
    "import pandas as pd\n",
    "from vega_datasets import data"
   ]
  },
  {
   "cell_type": "code",
   "execution_count": null,
   "metadata": {},
   "outputs": [],
   "source": [
    "# from https://altair-viz.github.io/gallery/simple_bar_chart.html\n",
    "data_barchart = pd.DataFrame({\n",
    "    'a': ['A', 'B', 'C', 'D', 'E', 'F', 'G', 'H', 'I'],\n",
    "    'b': [28, 55, 43, 91, 81, 53, 19, 87, 52]\n",
    "})\n",
    "\n",
    "simple_barchar = alt.Chart(data_barchart).mark_bar().encode(\n",
    "    x='a',\n",
    "    y='b'\n",
    ")"
   ]
  },
  {
   "cell_type": "code",
   "execution_count": null,
   "metadata": {},
   "outputs": [],
   "source": [
    "# from https://altair-viz.github.io/gallery/scatter_linked_brush.html\n",
    "cars = data.cars()\n",
    "cars_data = cars.head().to_html(classes='table is-striped is-hoverable')\n",
    "\n",
    "\n",
    "brush = alt.selection(type='interval')\n",
    "\n",
    "points = alt.Chart().mark_point().encode(\n",
    "    x='Horsepower:Q',\n",
    "    y='Miles_per_Gallon:Q',\n",
    "    color=alt.condition(brush, 'Origin:N', alt.value('lightgray'))\n",
    ").add_selection(\n",
    "    brush\n",
    ")\n",
    "\n",
    "bars = alt.Chart().mark_bar().encode(\n",
    "    y='Origin:N',\n",
    "    color='Origin:N',\n",
    "    x='count(Origin):Q'\n",
    ").transform_filter(\n",
    "    brush\n",
    ")\n",
    "\n",
    "cars_plot = alt.vconcat(points, bars, data=cars)"
   ]
  },
  {
   "cell_type": "code",
   "execution_count": null,
   "metadata": {},
   "outputs": [],
   "source": [
    "data_to_app = [{\"type\": \"figur\", \"data\": simple_barchar.to_json()},\n",
    "        {\"type\": \"tabel\", \"data\": cars_data},\n",
    "        {\"type\": \"figur\", \"data\": cars_plot.to_json()}]"
   ]
  },
  {
   "cell_type": "code",
   "execution_count": null,
   "metadata": {},
   "outputs": [],
   "source": [
    "path = f'{pathlib.Path(os.getcwd()).joinpath(\"obj/data.json\")}'\n",
    "with open(path, 'w') as f:\n",
    "    json.dump(data_to_app, f)\n"
   ]
  },
  {
   "cell_type": "code",
   "execution_count": null,
   "metadata": {},
   "outputs": [],
   "source": [
    "# run app and manually open http://localhost:5000/ in a new tab afterwards.\n",
    "# write your comments to the tabels and figures and save the html to the disc.\n",
    "app.run()"
   ]
  }
 ],
 "metadata": {
  "kernelspec": {
   "display_name": "Python 3",
   "language": "python",
   "name": "python3"
  },
  "language_info": {
   "codemirror_mode": {
    "name": "ipython",
    "version": 3
   },
   "file_extension": ".py",
   "mimetype": "text/x-python",
   "name": "python",
   "nbconvert_exporter": "python",
   "pygments_lexer": "ipython3",
   "version": "3.7.0"
  }
 },
 "nbformat": 4,
 "nbformat_minor": 2
}
